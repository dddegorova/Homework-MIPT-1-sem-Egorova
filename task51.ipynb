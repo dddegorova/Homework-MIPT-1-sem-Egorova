{
 "cells": [
  {
   "cell_type": "markdown",
   "id": "044defa3",
   "metadata": {},
   "source": [
    "# Домашнее задание"
   ]
  },
  {
   "cell_type": "markdown",
   "id": "e4918f39",
   "metadata": {},
   "source": []
  },
  {
   "cell_type": "markdown",
   "id": "33140eb0",
   "metadata": {},
   "source": [
    "#### Упражнение 1"
   ]
  },
  {
   "cell_type": "code",
   "execution_count": 7,
   "id": "2c7c5104",
   "metadata": {},
   "outputs": [
    {
     "name": "stdout",
     "output_type": "stream",
     "text": [
      "907\n"
     ]
    }
   ],
   "source": [
    "import pandas as pd\n",
    "import re\n",
    "\n",
    "s = input().strip()\n",
    "p = r'student_(\\d{3})(\\d+)'\n",
    "df = pd.DataFrame(re.findall(p, s), columns=['n', 'score'])\n",
    "df['score'] = df['score'].astype(int)\n",
    "maxl = df['score'].max()\n",
    "g = df[df['score'] == maxl]['n']\n",
    "print('-'.join(g))"
   ]
  },
  {
   "cell_type": "markdown",
   "id": "24bea19d",
   "metadata": {},
   "source": [
    "#### Упражнение 2"
   ]
  },
  {
   "cell_type": "code",
   "execution_count": null,
   "id": "4ef09f6f",
   "metadata": {},
   "outputs": [
    {
     "name": "stdout",
     "output_type": "stream",
     "text": [
      "Длина окружности равно 12.57.\n",
      "Площадь круга составляет 139.63% от площади квадрата.\n"
     ]
    }
   ],
   "source": [
    "import math\n",
    "r, a = map(int,input().split())\n",
    "sk= math.pi*r**2\n",
    "kk = a**2\n",
    "print(f'Длина окружности равно {(2* math.pi*r):.2f}.\\nПлощадь круга составляет {(sk/kk)*100:.2f}% от площади квадрата.')"
   ]
  },
  {
   "cell_type": "markdown",
   "id": "4ada147f",
   "metadata": {},
   "source": [
    "\n",
    "#### Упражнение 3"
   ]
  },
  {
   "cell_type": "code",
   "execution_count": null,
   "id": "9636d20c",
   "metadata": {},
   "outputs": [],
   "source": [
    "a, b = map(str, input().split())\n",
    "if len(a) >= 2:\n",
    "    ans1 = ''.join(reversed(a[:2])) + a[2:]\n",
    "else:\n",
    "    ans1 = a\n",
    "if len(b) >= 2:\n",
    "    ans2 = ''.join(reversed(b[:2])) + b[2:]\n",
    "else:\n",
    "    ans2 = b\n",
    "print(f\"{ans1}-{ans2}\")"
   ]
  },
  {
   "cell_type": "markdown",
   "id": "a2dfbe94",
   "metadata": {},
   "source": [
    "#### Упражнение 4"
   ]
  },
  {
   "cell_type": "code",
   "execution_count": 1,
   "id": "a8b577aa",
   "metadata": {},
   "outputs": [
    {
     "name": "stdout",
     "output_type": "stream",
     "text": [
      "PYTHON3\n"
     ]
    }
   ],
   "source": [
    "s = input().strip()\n",
    "if len(s) < 4:\n",
    "    if s.isupper(): print(s)\n",
    "    else:print(s)\n",
    "else:\n",
    "    up = sum(1 for i in s[:4] if i.isupper())\n",
    "    \n",
    "    if up >= 3: print(s.upper())\n",
    "    else: print(s)"
   ]
  },
  {
   "cell_type": "markdown",
   "id": "5c349bd0",
   "metadata": {},
   "source": [
    "#### Упражнение 5"
   ]
  },
  {
   "cell_type": "code",
   "execution_count": null,
   "id": "9e9500e2",
   "metadata": {},
   "outputs": [
    {
     "name": "stdout",
     "output_type": "stream",
     "text": [
      "<i>Python</i>\n"
     ]
    }
   ],
   "source": [
    "ts = {'a', 'abbr', 'b', 'body', 'caption', 'cite', 'code', 'div', 'form', 'h1', 'h2', 'h3', 'h4', 'h5', 'h6', 'header', 'i', 's'}\n",
    "\n",
    "t = input().strip()\n",
    "s = input().strip()\n",
    "\n",
    "if t in ts:\n",
    "    print(f\"<{t}>{s}</{t}>\")\n",
    "else:\n",
    "    print(\"Введён неверный тег\")"
   ]
  },
  {
   "cell_type": "markdown",
   "id": "98db5233",
   "metadata": {},
   "source": [
    "#### Упражнение 6"
   ]
  },
  {
   "cell_type": "code",
   "execution_count": 4,
   "id": "7add58d0",
   "metadata": {},
   "outputs": [
    {
     "name": "stdout",
     "output_type": "stream",
     "text": [
      "97\n"
     ]
    }
   ],
   "source": [
    "s = input().strip()\n",
    "if len(s) <= 2:\n",
    "    ans = ord(s[0])\n",
    "elif len(s) < 10:\n",
    "    mid = (len(s) - 1) // 2 \n",
    "    ans = ord(s[0]) + ord(s[mid]) + ord(s[-1])\n",
    "else:\n",
    "    ans = ord(s[-1])\n",
    "print(ans)"
   ]
  }
 ],
 "metadata": {
  "kernelspec": {
   "display_name": "Python 3",
   "language": "python",
   "name": "python3"
  },
  "language_info": {
   "codemirror_mode": {
    "name": "ipython",
    "version": 3
   },
   "file_extension": ".py",
   "mimetype": "text/x-python",
   "name": "python",
   "nbconvert_exporter": "python",
   "pygments_lexer": "ipython3",
   "version": "3.13.7"
  }
 },
 "nbformat": 4,
 "nbformat_minor": 5
}
